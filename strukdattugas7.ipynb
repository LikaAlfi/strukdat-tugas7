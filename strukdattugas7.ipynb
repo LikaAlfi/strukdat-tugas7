{
  "nbformat": 4,
  "nbformat_minor": 0,
  "metadata": {
    "colab": {
      "provenance": [],
      "authorship_tag": "ABX9TyP+GORgSXKiggwoJfLCD/vA",
      "include_colab_link": true
    },
    "kernelspec": {
      "name": "python3",
      "display_name": "Python 3"
    },
    "language_info": {
      "name": "python"
    }
  },
  "cells": [
    {
      "cell_type": "markdown",
      "metadata": {
        "id": "view-in-github",
        "colab_type": "text"
      },
      "source": [
        "<a href=\"https://colab.research.google.com/github/LikaAlfi/strukdat-tugas7/blob/main/strukdattugas7.ipynb\" target=\"_parent\"><img src=\"https://colab.research.google.com/assets/colab-badge.svg\" alt=\"Open In Colab\"/></a>"
      ]
    },
    {
      "cell_type": "code",
      "source": [
        "#latihan 1\n",
        "#Struktur Tree berdasarkan identitas saya\n",
        "\n",
        "class Node:\n",
        "  def __init__ (self, data):\n",
        "    self.data = data\n",
        "    self.left = None\n",
        "    self.right = None\n",
        "\n",
        "# Fungsi inorder traversal\n",
        "def inorder (node):\n",
        "  if node:\n",
        "    inorder (node.left)\n",
        "    print (node.data, end='')\n",
        "    inorder (node.right)\n",
        "\n",
        "# Membuat tree secara manual\n",
        "root = Node(21)\n",
        "root.left = Node (8)\n",
        "root.right = Node (10)\n",
        "root.left.left = Node (3)\n",
        "root.left.right = Node (4)\n",
        "\n",
        "print(\"Hasil inorder traversal berdasarkan identitas saya: \")\n",
        "inorder(root)"
      ],
      "metadata": {
        "colab": {
          "base_uri": "https://localhost:8080/"
        },
        "id": "89kGAAElX6SZ",
        "outputId": "d1e88920-0fa8-40cd-8c05-f8dea7d5a247"
      },
      "execution_count": null,
      "outputs": [
        {
          "output_type": "stream",
          "name": "stdout",
          "text": [
            "Hasil inorder traversal berdasarkan identitas saya: \n",
            "3842110"
          ]
        }
      ]
    },
    {
      "cell_type": "code",
      "source": [
        "#latihan 2\n",
        "\n",
        "# definisi node bst\n",
        "class Node:\n",
        "  def __init__ (self, data):\n",
        "    self.data = data\n",
        "    self.left = None\n",
        "    self.right = None\n",
        "\n",
        "class BinarySearchTree:\n",
        "  def __init__ (self):\n",
        "    self.root = None\n",
        "\n",
        "# fungsi yang digunakan untuk menyisipan data ke bst\n",
        "  def insert(self, root, data):\n",
        "    if root is None:\n",
        "      return Node(data)\n",
        "    if data < root.data:\n",
        "      root.left = self.insert(root.left, data)\n",
        "    else:\n",
        "      root.right = self.insert(root.right, data)\n",
        "    return root\n",
        "\n",
        "# fungsi traversal inorder\n",
        "def inorder(node):\n",
        "  if node:\n",
        "    inorder(node.left)\n",
        "    print(node.data, end=' ')\n",
        "    inorder(node.right)\n",
        "\n",
        "#fungsi traversal preorder\n",
        "def preorder(node):\n",
        "  if node:\n",
        "    print(node.data, end=' ')\n",
        "    preorder(node.left)\n",
        "    preorder(node.right)\n",
        "\n",
        "#fungsi traversal postorder\n",
        "def postorder(node):\n",
        "  if node:\n",
        "    postorder(node.left)\n",
        "    postorder(node.right)\n",
        "    print(node.data, end=' ')\n",
        "\n",
        "# fungsi untuk pebcarian dalam bst\n",
        "def search (node, key) :\n",
        "  if node is None or node.data == key:\n",
        "    return node\n",
        "  if key < node.data:\n",
        "    return search(node.left, key)\n",
        "  return search(node.right, key)\n",
        "\n",
        "#data pribadi\n",
        "npm = \"2410506010\"\n",
        "tgl_lahir = \"03-04\"\n",
        "nama_depan = \"Fadlika\"\n",
        "angka_fav1 = 23\n",
        "angka_fav2 = 101\n",
        "\n",
        "#buat list angka\n",
        "angka1 = int(npm[-3:]) # untuk mencari 3 digit terakhir pada npm\n",
        "angka2 = int(tgl_lahir.split(\"-\")[0]) # untuk memisahkan tanggal lahir\n",
        "angka3 = int(tgl_lahir.split(\"-\")[1]) # untuk memisahkan bulan lahir\n",
        "ascii1 = ord(nama_depan[0]) # ASCII huruf pertama nama depan\n",
        "ascii2 = ord(nama_depan[1]) # ASCII hurufkedua nama depan\n",
        "\n",
        "data_list = [angka1, angka2, angka3, ascii1, ascii2, angka_fav1, angka_fav2]\n",
        "print(\"\\ndata list : \", data_list)\n",
        "\n",
        "# membuat bst\n",
        "bst = BinarySearchTree()\n",
        "root = None\n",
        "for value in data_list:\n",
        "  root = bst.insert(root, value)\n",
        "\n",
        "# menampilkan hasil dari traversal\n",
        "print(\"\\nInorder Traversal:\")\n",
        "inorder (root)\n",
        "print(\"\\nPreorder Traversal:\")\n",
        "preorder (root)\n",
        "print(\"\\nPostorder Traversal:\")\n",
        "postorder (root)\n",
        "\n",
        "# mencari data\n",
        "key = 10\n",
        "result = search (root, key)\n",
        "if result:\n",
        "  print(f\"\\n\\nPencarian angka {key} ditemukan dalam tree.\")\n",
        "else:\n",
        "  print(f\"Pencarian angka {key} tidak ditemukan.\")\n",
        "\n",
        "key = 25\n",
        "result = search(root, key)\n",
        "if result:\n",
        "  print(f\"Pencarian angka {key} ditemukan dalam tree.\")\n",
        "else:\n",
        "  print(f\"Pencarian angka {key} tidak ditemukan.\")"
      ],
      "metadata": {
        "colab": {
          "base_uri": "https://localhost:8080/"
        },
        "id": "E4XUxbNqYmjm",
        "outputId": "73e539dd-9484-46d5-d9ae-0acf66dbd396"
      },
      "execution_count": null,
      "outputs": [
        {
          "output_type": "stream",
          "name": "stdout",
          "text": [
            "\n",
            "data list :  [10, 3, 4, 70, 97, 23, 101]\n",
            "\n",
            "Inorder Traversal:\n",
            "3 4 10 23 70 97 101 \n",
            "Preorder Traversal:\n",
            "10 3 4 70 23 97 101 \n",
            "Postorder Traversal:\n",
            "4 3 23 101 97 70 10 \n",
            "\n",
            "Pencarian angka 10 ditemukan dalam tree.\n",
            "Pencarian angka 25 tidak ditemukan.\n"
          ]
        }
      ]
    }
  ]
}